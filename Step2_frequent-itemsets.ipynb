{
 "cells": [
  {
   "cell_type": "code",
   "execution_count": 1,
   "metadata": {},
   "outputs": [
    {
     "name": "stdout",
     "output_type": "stream",
     "text": [
      "            Row_ID    Ship_Mode      Segment       Region     Category  \\\n",
      "count  9800.000000  9800.000000  9800.000000  9800.000000  9800.000000   \n",
      "mean   4900.500000     2.236633     0.657653     1.571531     0.972959   \n",
      "std    2829.160653     1.099789     0.762582     1.162124     0.629563   \n",
      "min       1.000000     0.000000     0.000000     0.000000     0.000000   \n",
      "25%    2450.750000     2.000000     0.000000     1.000000     1.000000   \n",
      "50%    4900.500000     3.000000     0.000000     1.000000     1.000000   \n",
      "75%    7350.250000     3.000000     1.000000     3.000000     1.000000   \n",
      "max    9800.000000     3.000000     2.000000     3.000000     2.000000   \n",
      "\n",
      "       Sub_Category         Sales  \n",
      "count   9800.000000   9800.000000  \n",
      "mean       7.589592    230.769059  \n",
      "std        5.052448    626.651875  \n",
      "min        0.000000      0.444000  \n",
      "25%        3.000000     17.248000  \n",
      "50%        9.000000     54.490000  \n",
      "75%       12.000000    210.605000  \n",
      "max       16.000000  22638.480000  \n"
     ]
    }
   ],
   "source": [
    "import pandas as pd\n",
    "from sklearn.preprocessing import MultiLabelBinarizer\n",
    "from mlxtend.frequent_patterns import apriori, association_rules\n",
    "data = pd.read_csv(r'C:\\Users\\Admn\\Documents\\Data Analysis Imp stuff\\Research_Project\\Dataset\\Preprocessed_data.csv')\n",
    "summary_stats = data.describe()\n",
    "print(summary_stats)"
   ]
  },
  {
   "cell_type": "code",
   "execution_count": 5,
   "metadata": {},
   "outputs": [],
   "source": [
    "# Create a basket matrix\n",
    "basket_df = data.groupby('Order_ID')['Product_Name'].apply(list).reset_index()"
   ]
  },
  {
   "cell_type": "code",
   "execution_count": 6,
   "metadata": {},
   "outputs": [],
   "source": [
    "# Apply one-hot encoding\n",
    "mlb = MultiLabelBinarizer()\n",
    "one_hot_df = pd.DataFrame(mlb.fit_transform(basket_df['Product_Name']), columns=mlb.classes_, index = basket_df['Order_ID'])\n"
   ]
  },
  {
   "cell_type": "code",
   "execution_count": 23,
   "metadata": {},
   "outputs": [
    {
     "name": "stderr",
     "output_type": "stream",
     "text": [
      "c:\\Users\\Admn\\AppData\\Local\\Programs\\Python\\Python313\\Lib\\site-packages\\mlxtend\\frequent_patterns\\fpcommon.py:161: DeprecationWarning: DataFrames with non-bool types result in worse computationalperformance and their support might be discontinued in the future.Please use a DataFrame with bool type\n",
      "  warnings.warn(\n"
     ]
    },
    {
     "name": "stdout",
     "output_type": "stream",
     "text": [
      "    support             itemsets\n",
      "0  0.008939  (Easy-staple paper)\n",
      "1  0.009549    (Staple envelope)\n",
      "2  0.009346            (Staples)\n"
     ]
    }
   ],
   "source": [
    "frequent_itemsets = apriori(one_hot_df, min_support=0.005, use_colnames=True)\n",
    "print(frequent_itemsets)"
   ]
  }
 ],
 "metadata": {
  "kernelspec": {
   "display_name": "Python 3",
   "language": "python",
   "name": "python3"
  },
  "language_info": {
   "codemirror_mode": {
    "name": "ipython",
    "version": 3
   },
   "file_extension": ".py",
   "mimetype": "text/x-python",
   "name": "python",
   "nbconvert_exporter": "python",
   "pygments_lexer": "ipython3",
   "version": "3.13.1"
  }
 },
 "nbformat": 4,
 "nbformat_minor": 2
}
