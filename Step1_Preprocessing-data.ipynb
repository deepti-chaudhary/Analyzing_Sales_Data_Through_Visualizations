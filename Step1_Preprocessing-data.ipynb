{
 "cells": [
  {
   "cell_type": "code",
   "execution_count": null,
   "metadata": {},
   "outputs": [],
   "source": [
    "# Importing Libraries\n",
    "\n",
    "import pandas as pd\n",
    "import numpy as np\n",
    "from scipy import stats\n",
    "from sklearn import preprocessing\n",
    "preprocessing.LabelEncoder()\n",
    "preprocessing.StandardScaler()\n",
    "from sklearn import model_selection\n",
    "train_test_split = model_selection.train_test_split"
   ]
  },
  {
   "cell_type": "code",
   "execution_count": 8,
   "metadata": {},
   "outputs": [
    {
     "name": "stdout",
     "output_type": "stream",
     "text": [
      "Row_ID            int64\n",
      "Order_ID         object\n",
      "Order_Date       object\n",
      "Ship_Date        object\n",
      "Ship_Mode        object\n",
      "Customer_ID      object\n",
      "Segment          object\n",
      "Country          object\n",
      "City             object\n",
      "Region           object\n",
      "Product_ID       object\n",
      "Category         object\n",
      "Sub_Category     object\n",
      "Product_Name     object\n",
      "Sales           float64\n",
      "dtype: object\n"
     ]
    }
   ],
   "source": [
    "# Loading the data\n",
    "\n",
    "data = pd.read_csv(r'C:\\\\Users\\\\Admn\\\\Documents\\\\Data Analysis Imp stuff\\\\Research_Project\\\\Dataset\\\\Dilli_Dukaan_data.csv', encoding='latin1')\n",
    "print(data.dtypes)"
   ]
  },
  {
   "cell_type": "code",
   "execution_count": 9,
   "metadata": {},
   "outputs": [
    {
     "name": "stdout",
     "output_type": "stream",
     "text": [
      "   Row_ID        Order_ID  Order_Date   Ship_Date       Ship_Mode Customer_ID  \\\n",
      "0       1  IN-2017-152156  08-11-2017  11-11-2017    Second Class    CG-12520   \n",
      "1       2  IN-2017-152156  08-11-2017  11-11-2017    Second Class    CG-12520   \n",
      "2       3  IN-2017-138688  12-06-2017  16-06-2017    Second Class    DV-13045   \n",
      "3       4  IN-2016-108966  11-10-2016  18-10-2016  Standard Class    SO-20335   \n",
      "4       5  IN-2016-108966  11-10-2016  18-10-2016  Standard Class    SO-20335   \n",
      "\n",
      "     Segment Country   City Region       Product_ID         Category  \\\n",
      "0   Consumer   India  Delhi  South  FUR-BO-10001798        Furniture   \n",
      "1   Consumer   India  Delhi  South  FUR-CH-10000454        Furniture   \n",
      "2  Corporate   India  Delhi   West  OFF-LA-10000240  Office Supplies   \n",
      "3   Consumer   India  Delhi  South  FUR-TA-10000577        Furniture   \n",
      "4   Consumer   India  Delhi  South  OFF-ST-10000760  Office Supplies   \n",
      "\n",
      "  Sub_Category                                       Product_Name     Sales  \n",
      "0    Bookcases                  Bush Somerset Collection Bookcase  261.9600  \n",
      "1       Chairs  Hon Deluxe Fabric Upholstered Stacking Chairs,...  731.9400  \n",
      "2       Labels  Self-Adhesive Address Labels for Typewriters b...   14.6200  \n",
      "3       Tables      Bretford CR4500 Series Slim Rectangular Table  957.5775  \n",
      "4      Storage                      Eldon Fold N Roll Cart System   22.3680  \n",
      "Row_ID            int64\n",
      "Order_ID         object\n",
      "Order_Date       object\n",
      "Ship_Date        object\n",
      "Ship_Mode        object\n",
      "Customer_ID      object\n",
      "Segment          object\n",
      "Country          object\n",
      "City             object\n",
      "Region           object\n",
      "Product_ID       object\n",
      "Category         object\n",
      "Sub_Category     object\n",
      "Product_Name     object\n",
      "Sales           float64\n",
      "dtype: object\n",
      "            Row_ID         Sales\n",
      "count  9800.000000   9800.000000\n",
      "mean   4900.500000    230.769059\n",
      "std    2829.160653    626.651875\n",
      "min       1.000000      0.444000\n",
      "25%    2450.750000     17.248000\n",
      "50%    4900.500000     54.490000\n",
      "75%    7350.250000    210.605000\n",
      "max    9800.000000  22638.480000\n"
     ]
    }
   ],
   "source": [
    "# Viewing the data\n",
    "\n",
    "print(data.head())\n",
    "print(data.dtypes)\n",
    "print(data.describe())"
   ]
  },
  {
   "cell_type": "code",
   "execution_count": 10,
   "metadata": {},
   "outputs": [
    {
     "name": "stdout",
     "output_type": "stream",
     "text": [
      "Row_ID          0\n",
      "Order_ID        0\n",
      "Order_Date      0\n",
      "Ship_Date       0\n",
      "Ship_Mode       0\n",
      "Customer_ID     0\n",
      "Segment         0\n",
      "Country         0\n",
      "City            0\n",
      "Region          0\n",
      "Product_ID      0\n",
      "Category        0\n",
      "Sub_Category    0\n",
      "Product_Name    0\n",
      "Sales           0\n",
      "dtype: int64\n"
     ]
    }
   ],
   "source": [
    "# Handling Missing Values\n",
    "\n",
    "print(data.isnull().sum())"
   ]
  },
  {
   "cell_type": "code",
   "execution_count": 11,
   "metadata": {},
   "outputs": [],
   "source": [
    "# Encoding Categorical Variables\n",
    "\n",
    "data['Ship_Mode'] = preprocessing.LabelEncoder().fit_transform(data['Ship_Mode'])\n",
    "data['Segment'] = preprocessing.LabelEncoder().fit_transform(data['Segment'])\n",
    "data['Region'] = preprocessing.LabelEncoder().fit_transform(data['Region'])\n",
    "data['Category'] = preprocessing.LabelEncoder().fit_transform(data['Category'])\n",
    "data['Sub_Category'] = preprocessing.LabelEncoder().fit_transform(data['Sub_Category'])"
   ]
  },
  {
   "cell_type": "code",
   "execution_count": 12,
   "metadata": {},
   "outputs": [],
   "source": [
    "# Converting the data types to optimize data for analysis\n",
    "\n",
    "# Order Date to datetime\n",
    "data['Order_Date'] = pd.to_datetime(data['Order_Date'], dayfirst = True)\n",
    "\n",
    "# Ship Date to datetime\n",
    "data['Ship_Date'] = pd.to_datetime(data['Ship_Date'], dayfirst = True)\n",
    "\n",
    "# Numerical Columns to float and integer\n",
    "data['Sales'] = data['Sales'].astype(np.float64)"
   ]
  },
  {
   "cell_type": "code",
   "execution_count": 13,
   "metadata": {},
   "outputs": [],
   "source": [
    "# Removing duplicate rows\n",
    "\n",
    "data.drop_duplicates(inplace=True)"
   ]
  },
  {
   "cell_type": "code",
   "execution_count": 14,
   "metadata": {},
   "outputs": [],
   "source": [
    "# Splitting Training and Testing sets\n",
    "\n",
    "X_train, X_test, y_train, y_test = train_test_split(data.drop('Sales', axis = 1), data['Sales'], test_size = 0.2, random_state = 42)"
   ]
  },
  {
   "cell_type": "code",
   "execution_count": 15,
   "metadata": {},
   "outputs": [],
   "source": [
    "# Saving preprocessed data\n",
    "data.to_csv(r'C:\\Users\\Admn\\Documents\\Data Analysis Imp stuff\\Research_Project\\Dataset\\Preprocessed_data.csv', index = False)"
   ]
  }
 ],
 "metadata": {
  "kernelspec": {
   "display_name": "Python 3",
   "language": "python",
   "name": "python3"
  },
  "language_info": {
   "codemirror_mode": {
    "name": "ipython",
    "version": 3
   },
   "file_extension": ".py",
   "mimetype": "text/x-python",
   "name": "python",
   "nbconvert_exporter": "python",
   "pygments_lexer": "ipython3",
   "version": "3.13.1"
  }
 },
 "nbformat": 4,
 "nbformat_minor": 2
}
